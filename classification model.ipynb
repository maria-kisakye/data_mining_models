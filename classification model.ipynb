{
 "cells": [
  {
   "cell_type": "code",
   "execution_count": 3,
   "id": "b2620a03",
   "metadata": {},
   "outputs": [],
   "source": [
    "import numpy as np\n",
    "import matplotlib.pyplot as plt\n",
    "import warnings\n",
    "warnings.filterwarnings('ignore')\n"
   ]
  },
  {
   "cell_type": "code",
   "execution_count": 4,
   "id": "827cbb47",
   "metadata": {},
   "outputs": [
    {
     "name": "stdout",
     "output_type": "stream",
     "text": [
      "(125, 61)\n",
      "     GPA  Gender  breakfast  calories_chicken  calories_day  calories_scone  \\\n",
      "0    2.4       2          1               430           NaN           315.0   \n",
      "1  3.654       1          1               610           3.0           420.0   \n",
      "2    3.3       1          1               720           4.0           420.0   \n",
      "3    3.2       1          1               430           3.0           420.0   \n",
      "4    3.5       1          1               720           2.0           420.0   \n",
      "\n",
      "   coffee                      comfort_food        comfort_food_reasons  \\\n",
      "0       1                              none       we dont have comfort    \n",
      "1       2       chocolate, chips, ice cream        Stress, bored, anger   \n",
      "2       2   frozen yogurt, pizza, fast food             stress, sadness   \n",
      "3       2  Pizza, Mac and cheese, ice cream                     Boredom   \n",
      "4       2      Ice cream, chocolate, chips   Stress, boredom, cravings    \n",
      "\n",
      "   comfort_food_reasons_coded  ...  soup  sports  thai_food tortilla_calories  \\\n",
      "0                         9.0  ...   1.0     1.0          1            1165.0   \n",
      "1                         1.0  ...   1.0     1.0          2             725.0   \n",
      "2                         1.0  ...   1.0     2.0          5            1165.0   \n",
      "3                         2.0  ...   1.0     2.0          5             725.0   \n",
      "4                         1.0  ...   1.0     1.0          4             940.0   \n",
      "\n",
      "   turkey_calories  type_sports veggies_day  vitamins  waffle_calories  \\\n",
      "0              345   car racing           5         1             1315   \n",
      "1              690  Basketball            4         2              900   \n",
      "2              500         none           5         1              900   \n",
      "3              690          NaN           3         1             1315   \n",
      "4              500     Softball           4         2              760   \n",
      "\n",
      "                     weight  \n",
      "0                       187  \n",
      "1                       155  \n",
      "2  I'm not answering this.   \n",
      "3             Not sure, 240  \n",
      "4                       190  \n",
      "\n",
      "[5 rows x 61 columns]\n"
     ]
    }
   ],
   "source": [
    "import pandas as pd\n",
    "df = pd.read_csv('food_coded.csv')\n",
    "print(df.shape) \n",
    "print(df.head())  "
   ]
  },
  {
   "cell_type": "code",
   "execution_count": 5,
   "id": "fc4f95ce",
   "metadata": {},
   "outputs": [
    {
     "name": "stdout",
     "output_type": "stream",
     "text": [
      "<class 'pandas.core.frame.DataFrame'>\n",
      "RangeIndex: 125 entries, 0 to 124\n",
      "Data columns (total 61 columns):\n",
      " #   Column                        Non-Null Count  Dtype  \n",
      "---  ------                        --------------  -----  \n",
      " 0   GPA                           123 non-null    object \n",
      " 1   Gender                        125 non-null    int64  \n",
      " 2   breakfast                     125 non-null    int64  \n",
      " 3   calories_chicken              125 non-null    int64  \n",
      " 4   calories_day                  106 non-null    float64\n",
      " 5   calories_scone                124 non-null    float64\n",
      " 6   coffee                        125 non-null    int64  \n",
      " 7   comfort_food                  124 non-null    object \n",
      " 8   comfort_food_reasons          123 non-null    object \n",
      " 9   comfort_food_reasons_coded    106 non-null    float64\n",
      " 10  cook                          122 non-null    float64\n",
      " 11  comfort_food_reasons_coded.1  125 non-null    int64  \n",
      " 12  cuisine                       108 non-null    float64\n",
      " 13  diet_current                  124 non-null    object \n",
      " 14  diet_current_coded            125 non-null    int64  \n",
      " 15  drink                         123 non-null    float64\n",
      " 16  eating_changes                122 non-null    object \n",
      " 17  eating_changes_coded          125 non-null    int64  \n",
      " 18  eating_changes_coded1         125 non-null    int64  \n",
      " 19  eating_out                    125 non-null    int64  \n",
      " 20  employment                    116 non-null    float64\n",
      " 21  ethnic_food                   125 non-null    int64  \n",
      " 22  exercise                      112 non-null    float64\n",
      " 23  father_education              124 non-null    float64\n",
      " 24  father_profession             122 non-null    object \n",
      " 25  fav_cuisine                   123 non-null    object \n",
      " 26  fav_cuisine_coded             125 non-null    int64  \n",
      " 27  fav_food                      123 non-null    float64\n",
      " 28  food_childhood                124 non-null    object \n",
      " 29  fries                         125 non-null    int64  \n",
      " 30  fruit_day                     125 non-null    int64  \n",
      " 31  grade_level                   125 non-null    int64  \n",
      " 32  greek_food                    125 non-null    int64  \n",
      " 33  healthy_feeling               125 non-null    int64  \n",
      " 34  healthy_meal                  124 non-null    object \n",
      " 35  ideal_diet                    124 non-null    object \n",
      " 36  ideal_diet_coded              125 non-null    int64  \n",
      " 37  income                        124 non-null    float64\n",
      " 38  indian_food                   125 non-null    int64  \n",
      " 39  italian_food                  125 non-null    int64  \n",
      " 40  life_rewarding                124 non-null    float64\n",
      " 41  marital_status                124 non-null    float64\n",
      " 42  meals_dinner_friend           122 non-null    object \n",
      " 43  mother_education              122 non-null    float64\n",
      " 44  mother_profession             123 non-null    object \n",
      " 45  nutritional_check             125 non-null    int64  \n",
      " 46  on_off_campus                 124 non-null    float64\n",
      " 47  parents_cook                  125 non-null    int64  \n",
      " 48  pay_meal_out                  125 non-null    int64  \n",
      " 49  persian_food                  124 non-null    float64\n",
      " 50  self_perception_weight        124 non-null    float64\n",
      " 51  soup                          124 non-null    float64\n",
      " 52  sports                        123 non-null    float64\n",
      " 53  thai_food                     125 non-null    int64  \n",
      " 54  tortilla_calories             124 non-null    float64\n",
      " 55  turkey_calories               125 non-null    int64  \n",
      " 56  type_sports                   99 non-null     object \n",
      " 57  veggies_day                   125 non-null    int64  \n",
      " 58  vitamins                      125 non-null    int64  \n",
      " 59  waffle_calories               125 non-null    int64  \n",
      " 60  weight                        123 non-null    object \n",
      "dtypes: float64(20), int64(27), object(14)\n",
      "memory usage: 59.7+ KB\n"
     ]
    },
    {
     "data": {
      "text/html": [
       "<div>\n",
       "<style scoped>\n",
       "    .dataframe tbody tr th:only-of-type {\n",
       "        vertical-align: middle;\n",
       "    }\n",
       "\n",
       "    .dataframe tbody tr th {\n",
       "        vertical-align: top;\n",
       "    }\n",
       "\n",
       "    .dataframe thead th {\n",
       "        text-align: right;\n",
       "    }\n",
       "</style>\n",
       "<table border=\"1\" class=\"dataframe\">\n",
       "  <thead>\n",
       "    <tr style=\"text-align: right;\">\n",
       "      <th></th>\n",
       "      <th>Gender</th>\n",
       "      <th>breakfast</th>\n",
       "      <th>calories_chicken</th>\n",
       "      <th>calories_day</th>\n",
       "      <th>calories_scone</th>\n",
       "      <th>coffee</th>\n",
       "      <th>comfort_food_reasons_coded</th>\n",
       "      <th>cook</th>\n",
       "      <th>comfort_food_reasons_coded.1</th>\n",
       "      <th>cuisine</th>\n",
       "      <th>...</th>\n",
       "      <th>persian_food</th>\n",
       "      <th>self_perception_weight</th>\n",
       "      <th>soup</th>\n",
       "      <th>sports</th>\n",
       "      <th>thai_food</th>\n",
       "      <th>tortilla_calories</th>\n",
       "      <th>turkey_calories</th>\n",
       "      <th>veggies_day</th>\n",
       "      <th>vitamins</th>\n",
       "      <th>waffle_calories</th>\n",
       "    </tr>\n",
       "  </thead>\n",
       "  <tbody>\n",
       "    <tr>\n",
       "      <th>count</th>\n",
       "      <td>125.000000</td>\n",
       "      <td>125.000000</td>\n",
       "      <td>125.000000</td>\n",
       "      <td>106.000000</td>\n",
       "      <td>124.000000</td>\n",
       "      <td>125.00000</td>\n",
       "      <td>106.000000</td>\n",
       "      <td>122.000000</td>\n",
       "      <td>125.000000</td>\n",
       "      <td>108.000000</td>\n",
       "      <td>...</td>\n",
       "      <td>124.000000</td>\n",
       "      <td>124.000000</td>\n",
       "      <td>124.000000</td>\n",
       "      <td>123.000000</td>\n",
       "      <td>125.000000</td>\n",
       "      <td>124.000000</td>\n",
       "      <td>125.000000</td>\n",
       "      <td>125.000000</td>\n",
       "      <td>125.000000</td>\n",
       "      <td>125.000000</td>\n",
       "    </tr>\n",
       "    <tr>\n",
       "      <th>mean</th>\n",
       "      <td>1.392000</td>\n",
       "      <td>1.112000</td>\n",
       "      <td>577.320000</td>\n",
       "      <td>3.028302</td>\n",
       "      <td>505.241935</td>\n",
       "      <td>1.75200</td>\n",
       "      <td>2.698113</td>\n",
       "      <td>2.786885</td>\n",
       "      <td>2.688000</td>\n",
       "      <td>1.388889</td>\n",
       "      <td>...</td>\n",
       "      <td>2.806452</td>\n",
       "      <td>3.120968</td>\n",
       "      <td>1.217742</td>\n",
       "      <td>1.390244</td>\n",
       "      <td>3.336000</td>\n",
       "      <td>947.580645</td>\n",
       "      <td>555.040000</td>\n",
       "      <td>4.008000</td>\n",
       "      <td>1.512000</td>\n",
       "      <td>1073.400000</td>\n",
       "    </tr>\n",
       "    <tr>\n",
       "      <th>std</th>\n",
       "      <td>0.490161</td>\n",
       "      <td>0.316636</td>\n",
       "      <td>131.214156</td>\n",
       "      <td>0.639308</td>\n",
       "      <td>230.840506</td>\n",
       "      <td>0.43359</td>\n",
       "      <td>1.972042</td>\n",
       "      <td>1.038351</td>\n",
       "      <td>1.910987</td>\n",
       "      <td>0.974759</td>\n",
       "      <td>...</td>\n",
       "      <td>1.423824</td>\n",
       "      <td>1.115980</td>\n",
       "      <td>0.414385</td>\n",
       "      <td>0.489800</td>\n",
       "      <td>1.436528</td>\n",
       "      <td>202.090179</td>\n",
       "      <td>152.370379</td>\n",
       "      <td>1.081337</td>\n",
       "      <td>0.501867</td>\n",
       "      <td>248.667092</td>\n",
       "    </tr>\n",
       "    <tr>\n",
       "      <th>min</th>\n",
       "      <td>1.000000</td>\n",
       "      <td>1.000000</td>\n",
       "      <td>265.000000</td>\n",
       "      <td>2.000000</td>\n",
       "      <td>315.000000</td>\n",
       "      <td>1.00000</td>\n",
       "      <td>1.000000</td>\n",
       "      <td>1.000000</td>\n",
       "      <td>1.000000</td>\n",
       "      <td>1.000000</td>\n",
       "      <td>...</td>\n",
       "      <td>1.000000</td>\n",
       "      <td>1.000000</td>\n",
       "      <td>1.000000</td>\n",
       "      <td>1.000000</td>\n",
       "      <td>1.000000</td>\n",
       "      <td>580.000000</td>\n",
       "      <td>345.000000</td>\n",
       "      <td>1.000000</td>\n",
       "      <td>1.000000</td>\n",
       "      <td>575.000000</td>\n",
       "    </tr>\n",
       "    <tr>\n",
       "      <th>25%</th>\n",
       "      <td>1.000000</td>\n",
       "      <td>1.000000</td>\n",
       "      <td>430.000000</td>\n",
       "      <td>3.000000</td>\n",
       "      <td>420.000000</td>\n",
       "      <td>2.00000</td>\n",
       "      <td>2.000000</td>\n",
       "      <td>2.000000</td>\n",
       "      <td>2.000000</td>\n",
       "      <td>1.000000</td>\n",
       "      <td>...</td>\n",
       "      <td>2.000000</td>\n",
       "      <td>2.000000</td>\n",
       "      <td>1.000000</td>\n",
       "      <td>1.000000</td>\n",
       "      <td>2.000000</td>\n",
       "      <td>725.000000</td>\n",
       "      <td>500.000000</td>\n",
       "      <td>3.000000</td>\n",
       "      <td>1.000000</td>\n",
       "      <td>900.000000</td>\n",
       "    </tr>\n",
       "    <tr>\n",
       "      <th>50%</th>\n",
       "      <td>1.000000</td>\n",
       "      <td>1.000000</td>\n",
       "      <td>610.000000</td>\n",
       "      <td>3.000000</td>\n",
       "      <td>420.000000</td>\n",
       "      <td>2.00000</td>\n",
       "      <td>2.000000</td>\n",
       "      <td>3.000000</td>\n",
       "      <td>2.000000</td>\n",
       "      <td>1.000000</td>\n",
       "      <td>...</td>\n",
       "      <td>3.000000</td>\n",
       "      <td>3.000000</td>\n",
       "      <td>1.000000</td>\n",
       "      <td>1.000000</td>\n",
       "      <td>3.000000</td>\n",
       "      <td>940.000000</td>\n",
       "      <td>500.000000</td>\n",
       "      <td>4.000000</td>\n",
       "      <td>2.000000</td>\n",
       "      <td>900.000000</td>\n",
       "    </tr>\n",
       "    <tr>\n",
       "      <th>75%</th>\n",
       "      <td>2.000000</td>\n",
       "      <td>1.000000</td>\n",
       "      <td>720.000000</td>\n",
       "      <td>3.000000</td>\n",
       "      <td>420.000000</td>\n",
       "      <td>2.00000</td>\n",
       "      <td>3.000000</td>\n",
       "      <td>3.000000</td>\n",
       "      <td>3.000000</td>\n",
       "      <td>1.000000</td>\n",
       "      <td>...</td>\n",
       "      <td>4.000000</td>\n",
       "      <td>4.000000</td>\n",
       "      <td>1.000000</td>\n",
       "      <td>2.000000</td>\n",
       "      <td>5.000000</td>\n",
       "      <td>1165.000000</td>\n",
       "      <td>690.000000</td>\n",
       "      <td>5.000000</td>\n",
       "      <td>2.000000</td>\n",
       "      <td>1315.000000</td>\n",
       "    </tr>\n",
       "    <tr>\n",
       "      <th>max</th>\n",
       "      <td>2.000000</td>\n",
       "      <td>2.000000</td>\n",
       "      <td>720.000000</td>\n",
       "      <td>4.000000</td>\n",
       "      <td>980.000000</td>\n",
       "      <td>2.00000</td>\n",
       "      <td>9.000000</td>\n",
       "      <td>5.000000</td>\n",
       "      <td>9.000000</td>\n",
       "      <td>6.000000</td>\n",
       "      <td>...</td>\n",
       "      <td>5.000000</td>\n",
       "      <td>6.000000</td>\n",
       "      <td>2.000000</td>\n",
       "      <td>2.000000</td>\n",
       "      <td>5.000000</td>\n",
       "      <td>1165.000000</td>\n",
       "      <td>850.000000</td>\n",
       "      <td>5.000000</td>\n",
       "      <td>2.000000</td>\n",
       "      <td>1315.000000</td>\n",
       "    </tr>\n",
       "  </tbody>\n",
       "</table>\n",
       "<p>8 rows × 47 columns</p>\n",
       "</div>"
      ],
      "text/plain": [
       "           Gender   breakfast  calories_chicken  calories_day  calories_scone  \\\n",
       "count  125.000000  125.000000        125.000000    106.000000      124.000000   \n",
       "mean     1.392000    1.112000        577.320000      3.028302      505.241935   \n",
       "std      0.490161    0.316636        131.214156      0.639308      230.840506   \n",
       "min      1.000000    1.000000        265.000000      2.000000      315.000000   \n",
       "25%      1.000000    1.000000        430.000000      3.000000      420.000000   \n",
       "50%      1.000000    1.000000        610.000000      3.000000      420.000000   \n",
       "75%      2.000000    1.000000        720.000000      3.000000      420.000000   \n",
       "max      2.000000    2.000000        720.000000      4.000000      980.000000   \n",
       "\n",
       "          coffee  comfort_food_reasons_coded        cook  \\\n",
       "count  125.00000                  106.000000  122.000000   \n",
       "mean     1.75200                    2.698113    2.786885   \n",
       "std      0.43359                    1.972042    1.038351   \n",
       "min      1.00000                    1.000000    1.000000   \n",
       "25%      2.00000                    2.000000    2.000000   \n",
       "50%      2.00000                    2.000000    3.000000   \n",
       "75%      2.00000                    3.000000    3.000000   \n",
       "max      2.00000                    9.000000    5.000000   \n",
       "\n",
       "       comfort_food_reasons_coded.1     cuisine  ...  persian_food  \\\n",
       "count                    125.000000  108.000000  ...    124.000000   \n",
       "mean                       2.688000    1.388889  ...      2.806452   \n",
       "std                        1.910987    0.974759  ...      1.423824   \n",
       "min                        1.000000    1.000000  ...      1.000000   \n",
       "25%                        2.000000    1.000000  ...      2.000000   \n",
       "50%                        2.000000    1.000000  ...      3.000000   \n",
       "75%                        3.000000    1.000000  ...      4.000000   \n",
       "max                        9.000000    6.000000  ...      5.000000   \n",
       "\n",
       "       self_perception_weight        soup      sports   thai_food  \\\n",
       "count              124.000000  124.000000  123.000000  125.000000   \n",
       "mean                 3.120968    1.217742    1.390244    3.336000   \n",
       "std                  1.115980    0.414385    0.489800    1.436528   \n",
       "min                  1.000000    1.000000    1.000000    1.000000   \n",
       "25%                  2.000000    1.000000    1.000000    2.000000   \n",
       "50%                  3.000000    1.000000    1.000000    3.000000   \n",
       "75%                  4.000000    1.000000    2.000000    5.000000   \n",
       "max                  6.000000    2.000000    2.000000    5.000000   \n",
       "\n",
       "       tortilla_calories  turkey_calories  veggies_day    vitamins  \\\n",
       "count         124.000000       125.000000   125.000000  125.000000   \n",
       "mean          947.580645       555.040000     4.008000    1.512000   \n",
       "std           202.090179       152.370379     1.081337    0.501867   \n",
       "min           580.000000       345.000000     1.000000    1.000000   \n",
       "25%           725.000000       500.000000     3.000000    1.000000   \n",
       "50%           940.000000       500.000000     4.000000    2.000000   \n",
       "75%          1165.000000       690.000000     5.000000    2.000000   \n",
       "max          1165.000000       850.000000     5.000000    2.000000   \n",
       "\n",
       "       waffle_calories  \n",
       "count       125.000000  \n",
       "mean       1073.400000  \n",
       "std         248.667092  \n",
       "min         575.000000  \n",
       "25%         900.000000  \n",
       "50%         900.000000  \n",
       "75%        1315.000000  \n",
       "max        1315.000000  \n",
       "\n",
       "[8 rows x 47 columns]"
      ]
     },
     "execution_count": 5,
     "metadata": {},
     "output_type": "execute_result"
    }
   ],
   "source": [
    "df.info()  \n",
    "df.describe()  \n",
    "\n"
   ]
  },
  {
   "cell_type": "code",
   "execution_count": 6,
   "id": "2a2f0563",
   "metadata": {},
   "outputs": [
    {
     "data": {
      "text/plain": [
       "GPA                  2\n",
       "Gender               0\n",
       "breakfast            0\n",
       "calories_chicken     0\n",
       "calories_day        19\n",
       "                    ..\n",
       "type_sports         26\n",
       "veggies_day          0\n",
       "vitamins             0\n",
       "waffle_calories      0\n",
       "weight               2\n",
       "Length: 61, dtype: int64"
      ]
     },
     "execution_count": 6,
     "metadata": {},
     "output_type": "execute_result"
    }
   ],
   "source": [
    "df.isna().sum()"
   ]
  },
  {
   "cell_type": "code",
   "execution_count": 7,
   "id": "0b9690c9",
   "metadata": {},
   "outputs": [],
   "source": [
    "df = df.drop(['type_sports', 'GPA', 'weight'], axis = 1)"
   ]
  },
  {
   "cell_type": "code",
   "execution_count": 8,
   "id": "f4f81200",
   "metadata": {},
   "outputs": [],
   "source": [
    "df['calories_day'] = df['calories_day'].fillna(df['calories_day'].mean())\n"
   ]
  },
  {
   "cell_type": "code",
   "execution_count": 1,
   "id": "68dc019a",
   "metadata": {},
   "outputs": [],
   "source": [
    "import matplotlib.pyplot as plt\n",
    "from sklearn.model_selection import train_test_split\n",
    "from sklearn.preprocessing import StandardScaler\n",
    "from sklearn.linear_model import LogisticRegression\n",
    "from sklearn.tree import DecisionTreeClassifier\n",
    "from sklearn.ensemble import RandomForestClassifier\n",
    "from sklearn.metrics import accuracy_score, precision_score, recall_score, f1_score, confusion_matrix, classification_report, RocCurveDisplay\n"
   ]
  },
  {
   "cell_type": "code",
   "execution_count": 10,
   "id": "7645df2d",
   "metadata": {},
   "outputs": [
    {
     "data": {
      "text/plain": [
       "Gender                            int64\n",
       "breakfast                         int64\n",
       "calories_chicken                  int64\n",
       "calories_day                    float64\n",
       "calories_scone                  float64\n",
       "coffee                            int64\n",
       "comfort_food                     object\n",
       "comfort_food_reasons             object\n",
       "comfort_food_reasons_coded      float64\n",
       "cook                            float64\n",
       "comfort_food_reasons_coded.1      int64\n",
       "cuisine                         float64\n",
       "diet_current                     object\n",
       "diet_current_coded                int64\n",
       "drink                           float64\n",
       "eating_changes                   object\n",
       "eating_changes_coded              int64\n",
       "eating_changes_coded1             int64\n",
       "eating_out                        int64\n",
       "employment                      float64\n",
       "ethnic_food                       int64\n",
       "exercise                        float64\n",
       "father_education                float64\n",
       "father_profession                object\n",
       "fav_cuisine                      object\n",
       "fav_cuisine_coded                 int64\n",
       "fav_food                        float64\n",
       "food_childhood                   object\n",
       "fries                             int64\n",
       "fruit_day                         int64\n",
       "grade_level                       int64\n",
       "greek_food                        int64\n",
       "healthy_feeling                   int64\n",
       "healthy_meal                     object\n",
       "ideal_diet                       object\n",
       "ideal_diet_coded                  int64\n",
       "income                          float64\n",
       "indian_food                       int64\n",
       "italian_food                      int64\n",
       "life_rewarding                  float64\n",
       "marital_status                  float64\n",
       "meals_dinner_friend              object\n",
       "mother_education                float64\n",
       "mother_profession                object\n",
       "nutritional_check                 int64\n",
       "on_off_campus                   float64\n",
       "parents_cook                      int64\n",
       "pay_meal_out                      int64\n",
       "persian_food                    float64\n",
       "self_perception_weight          float64\n",
       "soup                            float64\n",
       "sports                          float64\n",
       "thai_food                         int64\n",
       "tortilla_calories               float64\n",
       "turkey_calories                   int64\n",
       "veggies_day                       int64\n",
       "vitamins                          int64\n",
       "waffle_calories                   int64\n",
       "dtype: object"
      ]
     },
     "execution_count": 10,
     "metadata": {},
     "output_type": "execute_result"
    }
   ],
   "source": [
    "df.columns\n",
    "df.dtypes"
   ]
  },
  {
   "cell_type": "code",
   "execution_count": 17,
   "id": "71271b36",
   "metadata": {},
   "outputs": [],
   "source": [
    "from sklearn.preprocessing import LabelEncoder\n",
    "# Encode categorical predictors\n",
    "categorical_cols = ['comfort_food', 'comfort_food_reasons', 'eating_changes']\n",
    "label_encoder = LabelEncoder()\n",
    "for col in categorical_cols:\n",
    "    df[col] = label_encoder.fit_transform(df[col])\n",
    "\n",
    "# Map Gender to 0/1 (0=female, 1=male)\n",
    "df['Gender'] = df['Gender'].map({1: 0, 2: 1})"
   ]
  },
  {
   "cell_type": "code",
   "execution_count": null,
   "id": "2e0e95d9",
   "metadata": {},
   "outputs": [],
   "source": [
    "X = df[['comfort_food','comfort_food_reasons','eating_changes']]  #predictors\n",
    "Y = df['Gender']   #target variable"
   ]
  },
  {
   "cell_type": "code",
   "execution_count": null,
   "id": "656b453f",
   "metadata": {},
   "outputs": [
    {
     "name": "stdout",
     "output_type": "stream",
     "text": [
      "X_train shape: (100, 3) Y_train shape: (100,)\n",
      "X_test shape: (25, 3) Y_test shape: (25,)\n"
     ]
    }
   ],
   "source": [
    "#split the dataset into training and testing sets\n",
    "X_train, X_test, Y_train, Y_test = train_test_split(X, Y, test_size=0.2, random_state=42, stratify=Y)\n",
    "\n",
    "#verify shapes\n",
    "print(\"X_train shape:\", X_train.shape, \"Y_train shape:\", Y_train.shape)\n",
    "print(\"X_test shape:\", X_test.shape, \"Y_test shape:\", Y_test.shape)"
   ]
  },
  {
   "cell_type": "markdown",
   "id": "9daa3f7b",
   "metadata": {},
   "source": [
    "## 1. logistic regression\n",
    "Train a logistic regression model to predict 'Gender' using three predictors.\n",
    "\n",
    " Logistic Regression is a linear classifier that models the probability of Gender being 1 (male) vs. 0 (female) using a logistic function. It’s interpretable and works well with encoded categoricals, though it assumes features are not highly collinear (we’ll assume these predictors are independent enough for now)."
   ]
  },
  {
   "cell_type": "code",
   "execution_count": 21,
   "id": "6bd8de40",
   "metadata": {},
   "outputs": [
    {
     "name": "stdout",
     "output_type": "stream",
     "text": [
      "Accuracy: 0.6\n"
     ]
    }
   ],
   "source": [
    "#Initialize and train\n",
    "logistic_reg = LogisticRegression(max_iter=1000, multi_class='auto')\n",
    "logistic_reg.fit(X_train, Y_train)\n",
    "\n",
    "#Predict\n",
    "pred_lr = logistic_reg.predict(X_test)\n",
    "print('Accuracy:', accuracy_score(Y_test, pred_lr))"
   ]
  },
  {
   "cell_type": "code",
   "execution_count": 26,
   "id": "d3014646",
   "metadata": {},
   "outputs": [
    {
     "name": "stdout",
     "output_type": "stream",
     "text": [
      "              precision    recall  f1-score   support\n",
      "\n",
      "           0       0.61      0.93      0.74        15\n",
      "           1       0.50      0.10      0.17        10\n",
      "\n",
      "    accuracy                           0.60        25\n",
      "   macro avg       0.55      0.52      0.45        25\n",
      "weighted avg       0.57      0.60      0.51        25\n",
      "\n"
     ]
    }
   ],
   "source": [
    "print(classification_report(Y_test, pred_lr))"
   ]
  },
  {
   "cell_type": "markdown",
   "id": "054c8f26",
   "metadata": {},
   "source": [
    "## Confusion matrix"
   ]
  },
  {
   "cell_type": "code",
   "execution_count": 27,
   "id": "23d98013",
   "metadata": {},
   "outputs": [
    {
     "data": {
      "image/png": "[encoded data removed]",
      "text/plain": [
       "<Figure size 640x480 with 1 Axes>"
      ]
     },
     "metadata": {},
     "output_type": "display_data"
    }
   ],
   "source": [
    "cm = confusion_matrix(Y_test, pred_lr)\n",
    "plt.figure()\n",
    "plt.imshow(cm)\n",
    "plt.title('Confusion Matrix: Logistic Regression')\n",
    "plt.xlabel('Predicted')\n",
    "plt.ylabel('Actual')\n",
    "for i in range(cm.shape[0]):\n",
    "    for j in range(cm.shape[1]):\n",
    "        plt.text(j, i, cm[i, j], ha='center', va='center')\n",
    "plt.show()"
   ]
  },
  {
   "cell_type": "markdown",
   "id": "f2bd4308",
   "metadata": {},
   "source": [
    "## 2. Decision Tree Classifier\n",
    "\n",
    "Decision Tree is a non-linear classifier that splits data based on feature values, ideal for categorical features like ours. It’s interpretable but prone to overfitting, so we limit max_depth=5 to prevent overly complex trees."
   ]
  },
  {
   "cell_type": "code",
   "execution_count": null,
   "id": "e35d3b05",
   "metadata": {},
   "outputs": [
    {
     "name": "stdout",
     "output_type": "stream",
     "text": [
      "Accuracy: 0.56\n"
     ]
    }
   ],
   "source": [
    "#Initialize and train\n",
    "tree = DecisionTreeClassifier(max_depth=4, random_state=42)\n",
    "tree.fit(X_train, Y_train)\n",
    "\n",
    "#predict\n",
    "pred = tree.predict(X_test)\n",
    "print('Accuracy:', accuracy_score(Y_test, pred))"
   ]
  },
  {
   "cell_type": "code",
   "execution_count": 29,
   "id": "0c44be09",
   "metadata": {},
   "outputs": [
    {
     "name": "stdout",
     "output_type": "stream",
     "text": [
      "              precision    recall  f1-score   support\n",
      "\n",
      "           0       0.60      0.80      0.69        15\n",
      "           1       0.40      0.20      0.27        10\n",
      "\n",
      "    accuracy                           0.56        25\n",
      "   macro avg       0.50      0.50      0.48        25\n",
      "weighted avg       0.52      0.56      0.52        25\n",
      "\n"
     ]
    }
   ],
   "source": [
    "print(classification_report(Y_test, pred))"
   ]
  },
  {
   "cell_type": "markdown",
   "id": "f8180ea0",
   "metadata": {},
   "source": [
    "## confusion matrix"
   ]
  },
  {
   "cell_type": "code",
   "execution_count": 31,
   "id": "e8e2f1b5",
   "metadata": {},
   "outputs": [
    {
     "data": {
      "image/png": "[encoded data removed]",
      "text/plain": [
       "<Figure size 640x480 with 1 Axes>"
      ]
     },
     "metadata": {},
     "output_type": "display_data"
    }
   ],
   "source": [
    "cm = confusion_matrix(Y_test, pred)\n",
    "plt.figure()\n",
    "plt.imshow(cm)\n",
    "plt.title('Confusion Matrix: Decision Tree')\n",
    "plt.xlabel('Predicted')\n",
    "plt.ylabel('Actual')\n",
    "for i in range(cm.shape[0]):\n",
    "    for j in range(cm.shape[1]):\n",
    "        plt.text(j, i, cm[i, j], ha='center', va='center')\n",
    "plt.show()"
   ]
  },
  {
   "cell_type": "markdown",
   "id": "67cdc331",
   "metadata": {},
   "source": [
    "## Random Forest Classifier\n",
    "\n",
    "Random Forest is an ensemble of decision trees, reducing overfitting by averaging multiple trees. It’s robust for categorical data and often performs better than a single tree."
   ]
  },
  {
   "cell_type": "code",
   "execution_count": 32,
   "id": "84973cd4",
   "metadata": {},
   "outputs": [
    {
     "name": "stdout",
     "output_type": "stream",
     "text": [
      "Accuracy: 0.52\n"
     ]
    }
   ],
   "source": [
    "#initialize and train\n",
    "rf = RandomForestClassifier(n_estimators=200, random_state=42)\n",
    "rf.fit(X_train, Y_train)\n",
    "#predict\n",
    "pred_rf = rf.predict(X_test)\n",
    "print('Accuracy:', accuracy_score(Y_test, pred_rf))"
   ]
  },
  {
   "cell_type": "code",
   "execution_count": 33,
   "id": "ee8a1826",
   "metadata": {},
   "outputs": [
    {
     "name": "stdout",
     "output_type": "stream",
     "text": [
      "              precision    recall  f1-score   support\n",
      "\n",
      "           0       0.57      0.80      0.67        15\n",
      "           1       0.25      0.10      0.14        10\n",
      "\n",
      "    accuracy                           0.52        25\n",
      "   macro avg       0.41      0.45      0.40        25\n",
      "weighted avg       0.44      0.52      0.46        25\n",
      "\n"
     ]
    }
   ],
   "source": [
    "print(classification_report(Y_test, pred_rf))"
   ]
  },
  {
   "cell_type": "code",
   "execution_count": 34,
   "id": "8626896c",
   "metadata": {},
   "outputs": [
    {
     "data": {
      "image/png": "[encoded data removed]",
      "text/plain": [
       "<Figure size 640x480 with 1 Axes>"
      ]
     },
     "metadata": {},
     "output_type": "display_data"
    }
   ],
   "source": [
    "\n",
    "\n",
    "# Feature importance from Random Forest\n",
    "importances = pd.Series(rf.feature_importances_, index=X.columns)\n",
    "importances.sort_values(ascending=False).plot(kind='bar', color=['#1f77b4', '#ff7f0e', '#2ca02c'])\n",
    "plt.title('Feature Importance (Random Forest)')\n",
    "plt.ylabel('Importance')\n",
    "plt.show()"
   ]
  },
  {
   "cell_type": "markdown",
   "id": "f4adb38d",
   "metadata": {},
   "source": [
    "Since the model performance accuracy is less than 70%, the predictors may not strongly correlate with Gender. \n",
    "\n",
    "So we consider:\n",
    "\n",
    "- Adding more features like fav_cuisine_coded, eating_out from the dataset.\n",
    "- Trying a different target like comfort_food_reasons_coded (multi-class)."
   ]
  }
 ],
 "metadata": {
  "kernelspec": {
   "display_name": "Python 3",
   "language": "python",
   "name": "python3"
  },
  "language_info": {
   "codemirror_mode": {
    "name": "ipython",
    "version": 3
   },
   "file_extension": ".py",
   "mimetype": "text/x-python",
   "name": "python",
   "nbconvert_exporter": "python",
   "pygments_lexer": "ipython3",
   "version": "3.12.2"
  }
 },
 "nbformat": 4,
 "nbformat_minor": 5
}
